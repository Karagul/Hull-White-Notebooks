{
 "cells": [
  {
   "cell_type": "markdown",
   "metadata": {},
   "source": [
    "# Calibración de $\\gamma$ y $\\sigma$ en el Modelo de Hull-White"
   ]
  },
  {
   "cell_type": "markdown",
   "metadata": {},
   "source": [
    "Vamos a calibrar $\\gamma$ y $\\gamma$ utilizando precios de Caps y las fórmulas para Calls y Puts sobre un bono cupón cero que se obtienen en este modelo más la equivalencia entre una Put sobre un bono cupón cero y un caplet."
   ]
  },
  {
   "cell_type": "markdown",
   "metadata": {},
   "source": [
    "Recordemos la fórmula para una Put que vence en $T_{O}$, strike igual a $K$ sobre el bono cupón cero $Z(r_{t}, t, T_{B})$ .\n",
    "\n",
    "$$Put\\left(r_{0},0\\right)=K Z(r_{0},0, T_{O})N(-d_{2})-Z(r_{0},0, T_{B})N(-d_{1})$$\n",
    "\n",
    "$$d_{1}=\\frac{1}{S_{Z}(T_{O},T_{B})}ln\\left(\\frac{Z(r_{0},0, T_{B})}{Z(r_{0},0, T_{O})}\\right)+\\frac{S_{Z}(T_{O})}{2}$$\n",
    "\n",
    "$$d_{2}=d_{1}-S_{Z}(T_{O},T_{B})$$\n",
    "\n",
    "$$S_{Z}(T_{O},T_{B})=B(T_{O},T_{B})\\sqrt{\\frac{\\sigma^2}{2\\gamma}\\left(1-e^{2\\gamma T_{O}}\\right)}$$\n",
    "\n",
    "De esta fórmula se puede deducir la fórmula para un caplet de strike $r_{K}$ sobre una tasa forward entre $T$ y $T-\\Delta$.\n",
    "\n",
    "$$V\\left(r_{0},0\\right)=M\\left[KZ(r_{0},0, T-\\Delta)N(-d_{2})-Z(r_{0},0, T)N(-d_{1})\\right]$$\n",
    "\n",
    "$$M = N\\left(1+r_{K}\\Delta\\right)$$\n",
    "\n",
    "$$K=\\frac{1}{1+r_{K}\\Delta}$$\n",
    "\n",
    "$$d_{1}=\\frac{1}{S_{Z}(T-\\Delta,T)}ln\\left(\\frac{Z(r_{0},0, T)}{Z(r_{0},0, T-\\Delta)}\\right)+\\frac{S_{Z}(T-\\Delta,T)}{2}$$\n",
    "\n",
    "$$d_{2}=d_{1}-S_{Z}(T-\\Delta,T)$$"
   ]
  },
  {
   "cell_type": "markdown",
   "metadata": {},
   "source": [
    "Subamos data para hacer el ejercicio, esta se encuentra en un archivo Excel que cargaremos a un DataFrame de **pandas**."
   ]
  },
  {
   "cell_type": "code",
   "execution_count": 5,
   "metadata": {},
   "outputs": [
    {
     "data": {
      "text/html": [
       "<div>\n",
       "<style>\n",
       "    .dataframe thead tr:only-child th {\n",
       "        text-align: right;\n",
       "    }\n",
       "\n",
       "    .dataframe thead th {\n",
       "        text-align: left;\n",
       "    }\n",
       "\n",
       "    .dataframe tbody tr th {\n",
       "        vertical-align: top;\n",
       "    }\n",
       "</style>\n",
       "<table border=\"1\" class=\"dataframe\">\n",
       "  <thead>\n",
       "    <tr style=\"text-align: right;\">\n",
       "      <th></th>\n",
       "      <th>Maturity</th>\n",
       "      <th>SwapRates</th>\n",
       "      <th>Df</th>\n",
       "      <th>CapPrices</th>\n",
       "    </tr>\n",
       "  </thead>\n",
       "  <tbody>\n",
       "    <tr>\n",
       "      <th>0</th>\n",
       "      <td>0.25</td>\n",
       "      <td>0.021800</td>\n",
       "      <td>0.994580</td>\n",
       "      <td>0.000000</td>\n",
       "    </tr>\n",
       "    <tr>\n",
       "      <th>1</th>\n",
       "      <td>0.50</td>\n",
       "      <td>0.023177</td>\n",
       "      <td>0.988509</td>\n",
       "      <td>0.000456</td>\n",
       "    </tr>\n",
       "    <tr>\n",
       "      <th>2</th>\n",
       "      <td>0.75</td>\n",
       "      <td>0.024420</td>\n",
       "      <td>0.981899</td>\n",
       "      <td>0.001059</td>\n",
       "    </tr>\n",
       "    <tr>\n",
       "      <th>3</th>\n",
       "      <td>1.00</td>\n",
       "      <td>0.025550</td>\n",
       "      <td>0.974834</td>\n",
       "      <td>0.001859</td>\n",
       "    </tr>\n",
       "    <tr>\n",
       "      <th>4</th>\n",
       "      <td>1.25</td>\n",
       "      <td>0.026586</td>\n",
       "      <td>0.967384</td>\n",
       "      <td>0.002887</td>\n",
       "    </tr>\n",
       "    <tr>\n",
       "      <th>5</th>\n",
       "      <td>1.50</td>\n",
       "      <td>0.027546</td>\n",
       "      <td>0.959598</td>\n",
       "      <td>0.004157</td>\n",
       "    </tr>\n",
       "    <tr>\n",
       "      <th>6</th>\n",
       "      <td>1.75</td>\n",
       "      <td>0.028451</td>\n",
       "      <td>0.951503</td>\n",
       "      <td>0.005662</td>\n",
       "    </tr>\n",
       "    <tr>\n",
       "      <th>7</th>\n",
       "      <td>2.00</td>\n",
       "      <td>0.029320</td>\n",
       "      <td>0.943109</td>\n",
       "      <td>0.007364</td>\n",
       "    </tr>\n",
       "    <tr>\n",
       "      <th>8</th>\n",
       "      <td>2.25</td>\n",
       "      <td>0.030167</td>\n",
       "      <td>0.934418</td>\n",
       "      <td>0.009201</td>\n",
       "    </tr>\n",
       "    <tr>\n",
       "      <th>9</th>\n",
       "      <td>2.50</td>\n",
       "      <td>0.030991</td>\n",
       "      <td>0.925457</td>\n",
       "      <td>0.011129</td>\n",
       "    </tr>\n",
       "    <tr>\n",
       "      <th>10</th>\n",
       "      <td>2.75</td>\n",
       "      <td>0.031784</td>\n",
       "      <td>0.916269</td>\n",
       "      <td>0.013126</td>\n",
       "    </tr>\n",
       "    <tr>\n",
       "      <th>11</th>\n",
       "      <td>3.00</td>\n",
       "      <td>0.032540</td>\n",
       "      <td>0.906899</td>\n",
       "      <td>0.015194</td>\n",
       "    </tr>\n",
       "    <tr>\n",
       "      <th>12</th>\n",
       "      <td>3.25</td>\n",
       "      <td>0.033254</td>\n",
       "      <td>0.897396</td>\n",
       "      <td>0.017352</td>\n",
       "    </tr>\n",
       "    <tr>\n",
       "      <th>13</th>\n",
       "      <td>3.50</td>\n",
       "      <td>0.033930</td>\n",
       "      <td>0.887780</td>\n",
       "      <td>0.019598</td>\n",
       "    </tr>\n",
       "    <tr>\n",
       "      <th>14</th>\n",
       "      <td>3.75</td>\n",
       "      <td>0.034577</td>\n",
       "      <td>0.878050</td>\n",
       "      <td>0.021916</td>\n",
       "    </tr>\n",
       "    <tr>\n",
       "      <th>15</th>\n",
       "      <td>4.00</td>\n",
       "      <td>0.035200</td>\n",
       "      <td>0.868212</td>\n",
       "      <td>0.024288</td>\n",
       "    </tr>\n",
       "    <tr>\n",
       "      <th>16</th>\n",
       "      <td>4.25</td>\n",
       "      <td>0.035805</td>\n",
       "      <td>0.858264</td>\n",
       "      <td>0.026691</td>\n",
       "    </tr>\n",
       "    <tr>\n",
       "      <th>17</th>\n",
       "      <td>4.50</td>\n",
       "      <td>0.036393</td>\n",
       "      <td>0.848220</td>\n",
       "      <td>0.029117</td>\n",
       "    </tr>\n",
       "    <tr>\n",
       "      <th>18</th>\n",
       "      <td>4.75</td>\n",
       "      <td>0.036962</td>\n",
       "      <td>0.838102</td>\n",
       "      <td>0.031562</td>\n",
       "    </tr>\n",
       "    <tr>\n",
       "      <th>19</th>\n",
       "      <td>5.00</td>\n",
       "      <td>0.037510</td>\n",
       "      <td>0.827938</td>\n",
       "      <td>0.034029</td>\n",
       "    </tr>\n",
       "  </tbody>\n",
       "</table>\n",
       "</div>"
      ],
      "text/plain": [
       "    Maturity  SwapRates        Df  CapPrices\n",
       "0       0.25   0.021800  0.994580   0.000000\n",
       "1       0.50   0.023177  0.988509   0.000456\n",
       "2       0.75   0.024420  0.981899   0.001059\n",
       "3       1.00   0.025550  0.974834   0.001859\n",
       "4       1.25   0.026586  0.967384   0.002887\n",
       "5       1.50   0.027546  0.959598   0.004157\n",
       "6       1.75   0.028451  0.951503   0.005662\n",
       "7       2.00   0.029320  0.943109   0.007364\n",
       "8       2.25   0.030167  0.934418   0.009201\n",
       "9       2.50   0.030991  0.925457   0.011129\n",
       "10      2.75   0.031784  0.916269   0.013126\n",
       "11      3.00   0.032540  0.906899   0.015194\n",
       "12      3.25   0.033254  0.897396   0.017352\n",
       "13      3.50   0.033930  0.887780   0.019598\n",
       "14      3.75   0.034577  0.878050   0.021916\n",
       "15      4.00   0.035200  0.868212   0.024288\n",
       "16      4.25   0.035805  0.858264   0.026691\n",
       "17      4.50   0.036393  0.848220   0.029117\n",
       "18      4.75   0.036962  0.838102   0.031562\n",
       "19      5.00   0.037510  0.827938   0.034029"
      ]
     },
     "execution_count": 5,
     "metadata": {},
     "output_type": "execute_result"
    }
   ],
   "source": [
    "import pandas as pd\n",
    "data = pd.read_excel(\"./Data.xlsx\")\n",
    "data"
   ]
  },
  {
   "cell_type": "markdown",
   "metadata": {},
   "source": [
    "Tenemos:\n",
    "\n",
    "- Maturity: plazos en fracción de año\n",
    "- SwapRates: tasas swap a esos plazos (la periodicidad de los swaps coincide con la periodicidad de los plazos),\n",
    "- Df: factores de descuento obtenidos haciendo el bootstrapping de las tasas swap\n",
    "- CapPrices: los precios de Caps a los distintos plazos.\n",
    " - El Cap tiene strike igual a la tasa swap.\n",
    " - El Cap a t = 0.25 no está definido (de ahí el 0),\n",
    " - el Cap a t = 0.50 tiene un caplet entre t = 0.25 y t = 0.50,\n",
    " - el Cap a t = 0.75 tiene un caplet entre t = 0.25 y t = 0.50 y un caplet entre t = 0.50 y t = 0.75, y así sucesivamente.\n",
    "\n",
    "Implementemos la función para el valor del Caplet:\n",
    "- Primero se implementa $B$\n",
    "- Luego se implementa $S_{Z}$\n",
    "- Finalmente se implementa la fórmula del caplet"
   ]
  },
  {
   "cell_type": "code",
   "execution_count": 6,
   "metadata": {
    "collapsed": true
   },
   "outputs": [],
   "source": [
    "import math\n",
    "from scipy.stats import norm\n",
    "\n",
    "# Coeficiente B del modelo de HW\n",
    "def b_hw(gamma, t, T):\n",
    "    aux = 1 - math.exp(- gamma * (T - t))\n",
    "    return aux / gamma\n",
    "\n",
    "# Volatilidad del bono cupón cero en HW\n",
    "def sz(gamma, sigma, t, T):\n",
    "    b = b_hw(gamma, t, T)\n",
    "    return b * math.sqrt((sigma**2)/(2 * gamma)*(1 - math.exp(-2 * gamma* t)))\n",
    "\n",
    "# Valor del caplet\n",
    "def hw_caplet(r0, rK, To, Tb, zo, zb, gamma, sigma):\n",
    "    delta = Tb - To\n",
    "    M = 1 + rK * delta # Suponemos N = 1\n",
    "    K = 1 / M\n",
    "    sZ = sz(gamma, sigma, To, Tb)\n",
    "    d1 = 1 / sZ * math.log(zb/(K * zo)) + .5 * sZ\n",
    "    d2 = d1 - sZ\n",
    "    return M * (K * zo * norm.cdf(-d2) - zb * norm.cdf(-d1))    "
   ]
  },
  {
   "cell_type": "code",
   "execution_count": 7,
   "metadata": {},
   "outputs": [
    {
     "name": "stdout",
     "output_type": "stream",
     "text": [
      "zo: 0.994579541499\n",
      "r0: 0.02174080995975708\n",
      "zb: 0.9885094864\n",
      "rK: 0.023177\n",
      "gamma: 4\n",
      "sigma: 0.05\n",
      "caplet: 0.00121076776372\n"
     ]
    }
   ],
   "source": [
    "# Calculemos un ejemplo\n",
    "zo = data.Df.values[data.Maturity.values == .25][0]\n",
    "print(\"zo: \" + str(zo))\n",
    "\n",
    "r0 = -math.log(zo) / .25\n",
    "print(\"r0: \" + str(r0))\n",
    "\n",
    "zb = data.Df.values[data.Maturity.values == .5][0]\n",
    "print(\"zb: \" + str(zb))\n",
    "\n",
    "rK = data.SwapRates.values[data.Maturity.values == .5][0]\n",
    "print(\"rK: \" + str(rK))\n",
    "\n",
    "gamma = 4\n",
    "print(\"gamma: \" + str(gamma))\n",
    "\n",
    "sigma = .05\n",
    "print(\"sigma: \" + str(sigma))\n",
    "\n",
    "print(\"caplet: \" + str(hw_caplet(r0, rK, .25, .5, zo, zb, gamma, sigma)))"
   ]
  },
  {
   "cell_type": "markdown",
   "metadata": {},
   "source": [
    "Veamos ahora como calcular el valor de un Cap conociendo el plazo al vencimiento del Cap, el DataFrame data y los parámetros $\\gamma$ y $\\sigma$."
   ]
  },
  {
   "cell_type": "code",
   "execution_count": 8,
   "metadata": {
    "collapsed": true
   },
   "outputs": [],
   "source": [
    "# Valor Cap\n",
    "def valor_cap(r0, data, maturity, gamma, sigma):\n",
    "    if maturity < .5:\n",
    "        return \"Plazo mínimo es 0.5\"\n",
    "    data_ok = data.values[data.Maturity <= maturity]\n",
    "    # print(data_ok)\n",
    "    num_caplets = len(data_ok) - 1\n",
    "    rK = data_ok[num_caplets][1]\n",
    "    mkt_value = data_ok[num_caplets][3]\n",
    "    data_ok = data_ok[::-1]\n",
    "    # print(data_ok)\n",
    "    cap = 0.0\n",
    "    for i in range(0, num_caplets):\n",
    "        cap += hw_caplet(r0, rK, data_ok[i + 1][0], data_ok[i][0], data_ok[i + 1][2], data_ok[i][2],\n",
    "                        gamma, sigma)\n",
    "    return cap, mkt_value"
   ]
  },
  {
   "cell_type": "code",
   "execution_count": 9,
   "metadata": {},
   "outputs": [
    {
     "name": "stdout",
     "output_type": "stream",
     "text": [
      "(0.001210767763720441, 0.00045600000000000003)\n"
     ]
    }
   ],
   "source": [
    "# Probamos\n",
    "print(valor_cap(r0, data, .5, gamma, sigma))"
   ]
  },
  {
   "cell_type": "code",
   "execution_count": 10,
   "metadata": {
    "collapsed": true
   },
   "outputs": [],
   "source": [
    "# Definimos ahora una función con el error cuadrático total\n",
    "def error_caps(gamma_sigma, r0, data):\n",
    "    error = 0.0\n",
    "    inicio = .5\n",
    "    incremento = .25\n",
    "    for i in range(0, 19):\n",
    "        maturity = inicio + i * incremento\n",
    "        v = valor_cap(r0, data, maturity, gamma_sigma[0], gamma_sigma[1])\n",
    "        error += 1000 * (v[0] - v[1])**2\n",
    "    return error"
   ]
  },
  {
   "cell_type": "code",
   "execution_count": 11,
   "metadata": {},
   "outputs": [
    {
     "data": {
      "text/plain": [
       "0.27008503301798237"
      ]
     },
     "execution_count": 11,
     "metadata": {},
     "output_type": "execute_result"
    }
   ],
   "source": [
    "# Calcular error\n",
    "import numpy as np\n",
    "gamma_sigma = np.array([gamma, sigma])\n",
    "error_caps(gamma_sigma, r0, data)"
   ]
  },
  {
   "cell_type": "code",
   "execution_count": 12,
   "metadata": {},
   "outputs": [
    {
     "name": "stdout",
     "output_type": "stream",
     "text": [
      "Optimization terminated successfully.    (Exit mode 0)\n",
      "            Current function value: 0.010851564789411058\n",
      "            Iterations: 13\n",
      "            Function evaluations: 56\n",
      "            Gradient evaluations: 13\n"
     ]
    },
    {
     "data": {
      "text/plain": [
       "array([ 0.01      ,  0.01083915])"
      ]
     },
     "execution_count": 12,
     "metadata": {},
     "output_type": "execute_result"
    }
   ],
   "source": [
    "# Optimizar\n",
    "from scipy.optimize import fmin_slsqp as min\n",
    "min(error_caps, gamma_sigma, args=(r0, data), bounds=[(0.01,100),(0.00325, 100)], acc=1e-12)"
   ]
  },
  {
   "cell_type": "code",
   "execution_count": 17,
   "metadata": {},
   "outputs": [
    {
     "name": "stdout",
     "output_type": "stream",
     "text": [
      "vol_anual (en pips): 32.49615361854384\n"
     ]
    }
   ],
   "source": [
    "# Justificación para el lower bound en sigma\n",
    "vol_diaria = .0002 # Vol diaria de 2 pip\n",
    "vol_anual = vol_diaria * math.sqrt(264)\n",
    "print(\"vol_anual (en pips): \" + str(vol_anual * 10000))"
   ]
  }
 ],
 "metadata": {
  "kernelspec": {
   "display_name": "Python 3",
   "language": "python",
   "name": "python3"
  },
  "language_info": {
   "codemirror_mode": {
    "name": "ipython",
    "version": 3
   },
   "file_extension": ".py",
   "mimetype": "text/x-python",
   "name": "python",
   "nbconvert_exporter": "python",
   "pygments_lexer": "ipython3",
   "version": "3.6.1"
  }
 },
 "nbformat": 4,
 "nbformat_minor": 2
}
